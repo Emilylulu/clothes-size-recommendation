{
 "cells": [
  {
   "cell_type": "code",
   "execution_count": 1,
   "metadata": {
    "collapsed": true
   },
   "outputs": [],
   "source": [
    "import numpy as np # linear algebra\n",
    "import pandas as pd # data processing, CSV file I/O (e.g. pd.read_csv)\n",
    "import matplotlib.pyplot as plt\n",
    "import seaborn as sns\n",
    "import os"
   ]
  },
  {
   "cell_type": "code",
   "execution_count": 2,
   "metadata": {
    "collapsed": true
   },
   "outputs": [],
   "source": [
    "rr_df = pd.read_json('renttherunway_final_data.json', lines=True)\n",
    "mc_df = pd.read_json('modcloth_final_data.json', lines=True)"
   ]
  },
  {
   "cell_type": "code",
   "execution_count": 3,
   "metadata": {},
   "outputs": [
    {
     "data": {
      "text/plain": [
       "Index(['age', 'body type', 'bust size', 'category', 'fit', 'height', 'item_id',\n",
       "       'rating', 'rented for', 'review_date', 'review_summary', 'review_text',\n",
       "       'size', 'user_id', 'weight'],\n",
       "      dtype='object')"
      ]
     },
     "execution_count": 3,
     "metadata": {},
     "output_type": "execute_result"
    }
   ],
   "source": [
    "rr_df.columns"
   ]
  },
  {
   "cell_type": "code",
   "execution_count": 4,
   "metadata": {},
   "outputs": [
    {
     "data": {
      "text/plain": [
       "Index(['bra size', 'bust', 'category', 'cup size', 'fit', 'height', 'hips',\n",
       "       'item_id', 'length', 'quality', 'review_summary', 'review_text',\n",
       "       'shoe size', 'shoe width', 'size', 'user_id', 'user_name', 'waist'],\n",
       "      dtype='object')"
      ]
     },
     "execution_count": 4,
     "metadata": {},
     "output_type": "execute_result"
    }
   ],
   "source": [
    "mc_df.columns"
   ]
  },
  {
   "cell_type": "code",
   "execution_count": 6,
   "metadata": {},
   "outputs": [],
   "source": [
    "mc_df.rename(columns={\n",
    "    'quality':'rating',\n",
    "    'bra size':'bra_size',\n",
    "    'cup size':'cup_size'\n",
    "},inplace=True)"
   ]
  },
  {
   "cell_type": "code",
   "execution_count": 16,
   "metadata": {
    "collapsed": true
   },
   "outputs": [],
   "source": [
    "rr_df.rename(columns={\n",
    "    'body type':'body_type',\n",
    "    'rented for':'rented_for',\n",
    "    'bust_size':'bra_size'\n",
    "},inplace=True)"
   ]
  },
  {
   "cell_type": "code",
   "execution_count": 17,
   "metadata": {},
   "outputs": [
    {
     "data": {
      "text/plain": [
       "Index(['age', 'body_type', 'bra_size', 'category', 'fit', 'height', 'item_id',\n",
       "       'rating', 'rented_for', 'review_date', 'review_summary', 'review_text',\n",
       "       'size', 'user_id', 'weight'],\n",
       "      dtype='object')"
      ]
     },
     "execution_count": 17,
     "metadata": {},
     "output_type": "execute_result"
    }
   ],
   "source": [
    "rr_df.columns"
   ]
  },
  {
   "cell_type": "code",
   "execution_count": null,
   "metadata": {
    "collapsed": true
   },
   "outputs": [],
   "source": []
  },
  {
   "cell_type": "markdown",
   "metadata": {},
   "source": [
    "#### split bust_size from rr_df, just like mc_df"
   ]
  },
  {
   "cell_type": "code",
   "execution_count": 18,
   "metadata": {},
   "outputs": [],
   "source": [
    "rr_df['cup_size'] = rr_df['bra_size']"
   ]
  },
  {
   "cell_type": "code",
   "execution_count": 19,
   "metadata": {
    "collapsed": true
   },
   "outputs": [],
   "source": [
    "bust = rr_df['bra_size']\n",
    "cup = []\n",
    "bra = []\n",
    "for i in range(len(bust)):\n",
    "#     bust[i] = str(bust[i])\n",
    "    if isinstance(bust[i], float) or bust[i] == 'NaN' or bust[i] == 'nan':\n",
    "        cup.append(float('NaN'))\n",
    "        bra.append(float('NaN'))\n",
    "        continue\n",
    "#     print(i)\n",
    "    bra.append(bust[i][:2])\n",
    "    cup.append(bust[i][2:])"
   ]
  },
  {
   "cell_type": "code",
   "execution_count": 20,
   "metadata": {
    "collapsed": true
   },
   "outputs": [],
   "source": [
    "rr_df['cup_size'] = cup\n",
    "rr_df['bra_size'] = bra"
   ]
  },
  {
   "cell_type": "code",
   "execution_count": 22,
   "metadata": {
    "collapsed": true
   },
   "outputs": [],
   "source": [
    "rr_df['bra_size'] = [float(j) for j in rr_df['bra_size']]"
   ]
  },
  {
   "cell_type": "code",
   "execution_count": 23,
   "metadata": {},
   "outputs": [
    {
     "data": {
      "text/html": [
       "<div>\n",
       "<style scoped>\n",
       "    .dataframe tbody tr th:only-of-type {\n",
       "        vertical-align: middle;\n",
       "    }\n",
       "\n",
       "    .dataframe tbody tr th {\n",
       "        vertical-align: top;\n",
       "    }\n",
       "\n",
       "    .dataframe thead th {\n",
       "        text-align: right;\n",
       "    }\n",
       "</style>\n",
       "<table border=\"1\" class=\"dataframe\">\n",
       "  <thead>\n",
       "    <tr style=\"text-align: right;\">\n",
       "      <th></th>\n",
       "      <th>age</th>\n",
       "      <th>body_type</th>\n",
       "      <th>bra_size</th>\n",
       "      <th>category</th>\n",
       "      <th>fit</th>\n",
       "      <th>height</th>\n",
       "      <th>item_id</th>\n",
       "      <th>rating</th>\n",
       "      <th>rented_for</th>\n",
       "      <th>review_date</th>\n",
       "      <th>review_summary</th>\n",
       "      <th>review_text</th>\n",
       "      <th>size</th>\n",
       "      <th>user_id</th>\n",
       "      <th>weight</th>\n",
       "      <th>cup_size</th>\n",
       "    </tr>\n",
       "  </thead>\n",
       "  <tbody>\n",
       "    <tr>\n",
       "      <th>0</th>\n",
       "      <td>28.0</td>\n",
       "      <td>hourglass</td>\n",
       "      <td>34.0</td>\n",
       "      <td>romper</td>\n",
       "      <td>fit</td>\n",
       "      <td>5' 8\"</td>\n",
       "      <td>2260466</td>\n",
       "      <td>10.0</td>\n",
       "      <td>vacation</td>\n",
       "      <td>April 20, 2016</td>\n",
       "      <td>So many compliments!</td>\n",
       "      <td>An adorable romper! Belt and zipper were a lit...</td>\n",
       "      <td>14</td>\n",
       "      <td>420272</td>\n",
       "      <td>137lbs</td>\n",
       "      <td>d</td>\n",
       "    </tr>\n",
       "    <tr>\n",
       "      <th>1</th>\n",
       "      <td>36.0</td>\n",
       "      <td>straight &amp; narrow</td>\n",
       "      <td>34.0</td>\n",
       "      <td>gown</td>\n",
       "      <td>fit</td>\n",
       "      <td>5' 6\"</td>\n",
       "      <td>153475</td>\n",
       "      <td>10.0</td>\n",
       "      <td>other</td>\n",
       "      <td>June 18, 2013</td>\n",
       "      <td>I felt so glamourous!!!</td>\n",
       "      <td>I rented this dress for a photo shoot. The the...</td>\n",
       "      <td>12</td>\n",
       "      <td>273551</td>\n",
       "      <td>132lbs</td>\n",
       "      <td>b</td>\n",
       "    </tr>\n",
       "    <tr>\n",
       "      <th>2</th>\n",
       "      <td>116.0</td>\n",
       "      <td>NaN</td>\n",
       "      <td>NaN</td>\n",
       "      <td>sheath</td>\n",
       "      <td>fit</td>\n",
       "      <td>5' 4\"</td>\n",
       "      <td>1063761</td>\n",
       "      <td>10.0</td>\n",
       "      <td>party</td>\n",
       "      <td>December 14, 2015</td>\n",
       "      <td>It was a great time to celebrate the (almost) ...</td>\n",
       "      <td>This hugged in all the right places! It was a ...</td>\n",
       "      <td>4</td>\n",
       "      <td>360448</td>\n",
       "      <td>NaN</td>\n",
       "      <td>NaN</td>\n",
       "    </tr>\n",
       "    <tr>\n",
       "      <th>3</th>\n",
       "      <td>34.0</td>\n",
       "      <td>pear</td>\n",
       "      <td>34.0</td>\n",
       "      <td>dress</td>\n",
       "      <td>fit</td>\n",
       "      <td>5' 5\"</td>\n",
       "      <td>126335</td>\n",
       "      <td>8.0</td>\n",
       "      <td>formal affair</td>\n",
       "      <td>February 12, 2014</td>\n",
       "      <td>Dress arrived on time and in perfect condition.</td>\n",
       "      <td>I rented this for my company's black tie award...</td>\n",
       "      <td>8</td>\n",
       "      <td>909926</td>\n",
       "      <td>135lbs</td>\n",
       "      <td>c</td>\n",
       "    </tr>\n",
       "    <tr>\n",
       "      <th>4</th>\n",
       "      <td>27.0</td>\n",
       "      <td>athletic</td>\n",
       "      <td>34.0</td>\n",
       "      <td>gown</td>\n",
       "      <td>fit</td>\n",
       "      <td>5' 9\"</td>\n",
       "      <td>616682</td>\n",
       "      <td>10.0</td>\n",
       "      <td>wedding</td>\n",
       "      <td>September 26, 2016</td>\n",
       "      <td>Was in love with this dress !!!</td>\n",
       "      <td>I have always been petite in my upper body and...</td>\n",
       "      <td>12</td>\n",
       "      <td>151944</td>\n",
       "      <td>145lbs</td>\n",
       "      <td>b</td>\n",
       "    </tr>\n",
       "  </tbody>\n",
       "</table>\n",
       "</div>"
      ],
      "text/plain": [
       "     age          body_type  bra_size category  fit height  item_id  rating  \\\n",
       "0   28.0          hourglass      34.0   romper  fit  5' 8\"  2260466    10.0   \n",
       "1   36.0  straight & narrow      34.0     gown  fit  5' 6\"   153475    10.0   \n",
       "2  116.0                NaN       NaN   sheath  fit  5' 4\"  1063761    10.0   \n",
       "3   34.0               pear      34.0    dress  fit  5' 5\"   126335     8.0   \n",
       "4   27.0           athletic      34.0     gown  fit  5' 9\"   616682    10.0   \n",
       "\n",
       "      rented_for         review_date  \\\n",
       "0       vacation      April 20, 2016   \n",
       "1          other       June 18, 2013   \n",
       "2          party   December 14, 2015   \n",
       "3  formal affair   February 12, 2014   \n",
       "4        wedding  September 26, 2016   \n",
       "\n",
       "                                      review_summary  \\\n",
       "0                               So many compliments!   \n",
       "1                            I felt so glamourous!!!   \n",
       "2  It was a great time to celebrate the (almost) ...   \n",
       "3   Dress arrived on time and in perfect condition.    \n",
       "4                    Was in love with this dress !!!   \n",
       "\n",
       "                                         review_text  size  user_id  weight  \\\n",
       "0  An adorable romper! Belt and zipper were a lit...    14   420272  137lbs   \n",
       "1  I rented this dress for a photo shoot. The the...    12   273551  132lbs   \n",
       "2  This hugged in all the right places! It was a ...     4   360448     NaN   \n",
       "3  I rented this for my company's black tie award...     8   909926  135lbs   \n",
       "4  I have always been petite in my upper body and...    12   151944  145lbs   \n",
       "\n",
       "  cup_size  \n",
       "0        d  \n",
       "1        b  \n",
       "2      NaN  \n",
       "3        c  \n",
       "4        b  "
      ]
     },
     "execution_count": 23,
     "metadata": {},
     "output_type": "execute_result"
    }
   ],
   "source": [
    "rr_df.head()"
   ]
  },
  {
   "cell_type": "code",
   "execution_count": 26,
   "metadata": {
    "collapsed": true
   },
   "outputs": [],
   "source": [
    "rr_df['rating'] = [rr_df['rating'][i]/2 for i in range(len(rr_df['rating']))] # let rating in same scale"
   ]
  },
  {
   "cell_type": "code",
   "execution_count": 27,
   "metadata": {},
   "outputs": [
    {
     "data": {
      "text/plain": [
       "0         5.0\n",
       "1         5.0\n",
       "2         5.0\n",
       "3         4.0\n",
       "4         5.0\n",
       "5         4.0\n",
       "6         5.0\n",
       "7         5.0\n",
       "8         5.0\n",
       "9         5.0\n",
       "10        4.0\n",
       "11        4.0\n",
       "12        5.0\n",
       "13        4.0\n",
       "14        5.0\n",
       "15        5.0\n",
       "16        5.0\n",
       "17        5.0\n",
       "18        4.0\n",
       "19        5.0\n",
       "20        5.0\n",
       "21        4.0\n",
       "22        5.0\n",
       "23        4.0\n",
       "24        5.0\n",
       "25        4.0\n",
       "26        5.0\n",
       "27        5.0\n",
       "28        4.0\n",
       "29        5.0\n",
       "         ... \n",
       "192514    4.0\n",
       "192515    5.0\n",
       "192516    4.0\n",
       "192517    5.0\n",
       "192518    3.0\n",
       "192519    5.0\n",
       "192520    4.0\n",
       "192521    5.0\n",
       "192522    4.0\n",
       "192523    5.0\n",
       "192524    3.0\n",
       "192525    4.0\n",
       "192526    5.0\n",
       "192527    5.0\n",
       "192528    5.0\n",
       "192529    5.0\n",
       "192530    5.0\n",
       "192531    4.0\n",
       "192532    5.0\n",
       "192533    4.0\n",
       "192534    5.0\n",
       "192535    2.0\n",
       "192536    4.0\n",
       "192537    5.0\n",
       "192538    4.0\n",
       "192539    5.0\n",
       "192540    5.0\n",
       "192541    3.0\n",
       "192542    5.0\n",
       "192543    5.0\n",
       "Name: rating, Length: 192544, dtype: float64"
      ]
     },
     "execution_count": 27,
     "metadata": {},
     "output_type": "execute_result"
    }
   ],
   "source": [
    "rr_df.rating"
   ]
  },
  {
   "cell_type": "markdown",
   "metadata": {},
   "source": [
    "#### change the height to be cm"
   ]
  },
  {
   "cell_type": "code",
   "execution_count": 28,
   "metadata": {
    "collapsed": true
   },
   "outputs": [],
   "source": [
    "def get_cms(x):\n",
    "    if type(x) == type(1.0):\n",
    "        return\n",
    "    #print(x)\n",
    "    try: \n",
    "        return (int(x[0])*30.48) + (int(x[4:-2])*2.54)\n",
    "    except:\n",
    "        return (int(x[0])*30.48)\n",
    "mc_df.height = mc_df.height.apply(get_cms)"
   ]
  },
  {
   "cell_type": "code",
   "execution_count": 29,
   "metadata": {
    "collapsed": true
   },
   "outputs": [],
   "source": [
    "def get_cms_r(x):\n",
    "    if type(x) == type(1.0):\n",
    "        return\n",
    "    #print(x)\n",
    "    try: \n",
    "        return (int(x[0])*30.48) + (int(x[3])*2.54)\n",
    "    except:\n",
    "        return (int(x[0])*30.48)\n",
    "rr_df.height = rr_df.height.apply(get_cms_r)"
   ]
  },
  {
   "cell_type": "markdown",
   "metadata": {},
   "source": [
    "#### merge two datasets"
   ]
  },
  {
   "cell_type": "code",
   "execution_count": 30,
   "metadata": {},
   "outputs": [
    {
     "name": "stderr",
     "output_type": "stream",
     "text": [
      "/anaconda3/lib/python3.6/site-packages/ipykernel_launcher.py:1: FutureWarning: Sorting because non-concatenation axis is not aligned. A future version\n",
      "of pandas will change to not sort by default.\n",
      "\n",
      "To accept the future behavior, pass 'sort=False'.\n",
      "\n",
      "To retain the current behavior and silence the warning, pass 'sort=True'.\n",
      "\n",
      "  \"\"\"Entry point for launching an IPython kernel.\n"
     ]
    }
   ],
   "source": [
    "data = pd.concat([rr_df, mc_df], ignore_index=True)"
   ]
  },
  {
   "cell_type": "code",
   "execution_count": 31,
   "metadata": {},
   "outputs": [
    {
     "name": "stdout",
     "output_type": "stream",
     "text": [
      "<class 'pandas.core.frame.DataFrame'>\n",
      "RangeIndex: 275334 entries, 0 to 275333\n",
      "Data columns (total 23 columns):\n",
      "age               191584 non-null float64\n",
      "body_type         177907 non-null object\n",
      "bra_size          250905 non-null float64\n",
      "bust              11854 non-null object\n",
      "category          275334 non-null object\n",
      "cup_size          250668 non-null object\n",
      "fit               275334 non-null object\n",
      "height            273550 non-null float64\n",
      "hips              56064 non-null float64\n",
      "item_id           275334 non-null int64\n",
      "length            82755 non-null object\n",
      "rating            275184 non-null float64\n",
      "rented_for        192534 non-null object\n",
      "review_date       192544 non-null object\n",
      "review_summary    268609 non-null object\n",
      "review_text       268609 non-null object\n",
      "shoe size         27915 non-null float64\n",
      "shoe width        18607 non-null object\n",
      "size              275334 non-null int64\n",
      "user_id           275334 non-null int64\n",
      "user_name         82790 non-null object\n",
      "waist             2882 non-null float64\n",
      "weight            162562 non-null object\n",
      "dtypes: float64(7), int64(3), object(13)\n",
      "memory usage: 48.3+ MB\n"
     ]
    }
   ],
   "source": [
    "data.info()"
   ]
  },
  {
   "cell_type": "code",
   "execution_count": 32,
   "metadata": {},
   "outputs": [
    {
     "data": {
      "text/html": [
       "<div>\n",
       "<style scoped>\n",
       "    .dataframe tbody tr th:only-of-type {\n",
       "        vertical-align: middle;\n",
       "    }\n",
       "\n",
       "    .dataframe tbody tr th {\n",
       "        vertical-align: top;\n",
       "    }\n",
       "\n",
       "    .dataframe thead th {\n",
       "        text-align: right;\n",
       "    }\n",
       "</style>\n",
       "<table border=\"1\" class=\"dataframe\">\n",
       "  <thead>\n",
       "    <tr style=\"text-align: right;\">\n",
       "      <th></th>\n",
       "      <th>age</th>\n",
       "      <th>bra_size</th>\n",
       "      <th>height</th>\n",
       "      <th>hips</th>\n",
       "      <th>item_id</th>\n",
       "      <th>rating</th>\n",
       "      <th>shoe size</th>\n",
       "      <th>size</th>\n",
       "      <th>user_id</th>\n",
       "      <th>waist</th>\n",
       "    </tr>\n",
       "  </thead>\n",
       "  <tbody>\n",
       "    <tr>\n",
       "      <th>count</th>\n",
       "      <td>191584.000000</td>\n",
       "      <td>250905.000000</td>\n",
       "      <td>273550.000000</td>\n",
       "      <td>56064.000000</td>\n",
       "      <td>2.753340e+05</td>\n",
       "      <td>275184.000000</td>\n",
       "      <td>27915.000000</td>\n",
       "      <td>275334.000000</td>\n",
       "      <td>275334.000000</td>\n",
       "      <td>2882.000000</td>\n",
       "    </tr>\n",
       "    <tr>\n",
       "      <th>mean</th>\n",
       "      <td>33.871017</td>\n",
       "      <td>34.743118</td>\n",
       "      <td>164.775023</td>\n",
       "      <td>40.358501</td>\n",
       "      <td>8.723788e+05</td>\n",
       "      <td>4.366686</td>\n",
       "      <td>8.145818</td>\n",
       "      <td>12.370390</td>\n",
       "      <td>499300.295212</td>\n",
       "      <td>31.319223</td>\n",
       "    </tr>\n",
       "    <tr>\n",
       "      <th>std</th>\n",
       "      <td>8.058083</td>\n",
       "      <td>2.441723</td>\n",
       "      <td>7.175088</td>\n",
       "      <td>5.827166</td>\n",
       "      <td>7.329026e+05</td>\n",
       "      <td>0.853706</td>\n",
       "      <td>1.336109</td>\n",
       "      <td>8.430614</td>\n",
       "      <td>288249.327638</td>\n",
       "      <td>5.302849</td>\n",
       "    </tr>\n",
       "    <tr>\n",
       "      <th>min</th>\n",
       "      <td>0.000000</td>\n",
       "      <td>28.000000</td>\n",
       "      <td>91.440000</td>\n",
       "      <td>30.000000</td>\n",
       "      <td>1.233730e+05</td>\n",
       "      <td>1.000000</td>\n",
       "      <td>5.000000</td>\n",
       "      <td>0.000000</td>\n",
       "      <td>6.000000</td>\n",
       "      <td>20.000000</td>\n",
       "    </tr>\n",
       "    <tr>\n",
       "      <th>25%</th>\n",
       "      <td>29.000000</td>\n",
       "      <td>34.000000</td>\n",
       "      <td>160.020000</td>\n",
       "      <td>36.000000</td>\n",
       "      <td>2.224670e+05</td>\n",
       "      <td>4.000000</td>\n",
       "      <td>7.000000</td>\n",
       "      <td>8.000000</td>\n",
       "      <td>251353.500000</td>\n",
       "      <td>28.000000</td>\n",
       "    </tr>\n",
       "    <tr>\n",
       "      <th>50%</th>\n",
       "      <td>32.000000</td>\n",
       "      <td>34.000000</td>\n",
       "      <td>165.100000</td>\n",
       "      <td>39.000000</td>\n",
       "      <td>6.552110e+05</td>\n",
       "      <td>5.000000</td>\n",
       "      <td>8.000000</td>\n",
       "      <td>12.000000</td>\n",
       "      <td>498924.000000</td>\n",
       "      <td>30.000000</td>\n",
       "    </tr>\n",
       "    <tr>\n",
       "      <th>75%</th>\n",
       "      <td>37.000000</td>\n",
       "      <td>36.000000</td>\n",
       "      <td>170.180000</td>\n",
       "      <td>43.000000</td>\n",
       "      <td>1.353371e+06</td>\n",
       "      <td>5.000000</td>\n",
       "      <td>9.000000</td>\n",
       "      <td>16.000000</td>\n",
       "      <td>749031.000000</td>\n",
       "      <td>34.000000</td>\n",
       "    </tr>\n",
       "    <tr>\n",
       "      <th>max</th>\n",
       "      <td>117.000000</td>\n",
       "      <td>48.000000</td>\n",
       "      <td>241.300000</td>\n",
       "      <td>60.000000</td>\n",
       "      <td>2.966087e+06</td>\n",
       "      <td>5.000000</td>\n",
       "      <td>38.000000</td>\n",
       "      <td>58.000000</td>\n",
       "      <td>999997.000000</td>\n",
       "      <td>50.000000</td>\n",
       "    </tr>\n",
       "  </tbody>\n",
       "</table>\n",
       "</div>"
      ],
      "text/plain": [
       "                 age       bra_size         height          hips  \\\n",
       "count  191584.000000  250905.000000  273550.000000  56064.000000   \n",
       "mean       33.871017      34.743118     164.775023     40.358501   \n",
       "std         8.058083       2.441723       7.175088      5.827166   \n",
       "min         0.000000      28.000000      91.440000     30.000000   \n",
       "25%        29.000000      34.000000     160.020000     36.000000   \n",
       "50%        32.000000      34.000000     165.100000     39.000000   \n",
       "75%        37.000000      36.000000     170.180000     43.000000   \n",
       "max       117.000000      48.000000     241.300000     60.000000   \n",
       "\n",
       "            item_id         rating     shoe size           size  \\\n",
       "count  2.753340e+05  275184.000000  27915.000000  275334.000000   \n",
       "mean   8.723788e+05       4.366686      8.145818      12.370390   \n",
       "std    7.329026e+05       0.853706      1.336109       8.430614   \n",
       "min    1.233730e+05       1.000000      5.000000       0.000000   \n",
       "25%    2.224670e+05       4.000000      7.000000       8.000000   \n",
       "50%    6.552110e+05       5.000000      8.000000      12.000000   \n",
       "75%    1.353371e+06       5.000000      9.000000      16.000000   \n",
       "max    2.966087e+06       5.000000     38.000000      58.000000   \n",
       "\n",
       "             user_id        waist  \n",
       "count  275334.000000  2882.000000  \n",
       "mean   499300.295212    31.319223  \n",
       "std    288249.327638     5.302849  \n",
       "min         6.000000    20.000000  \n",
       "25%    251353.500000    28.000000  \n",
       "50%    498924.000000    30.000000  \n",
       "75%    749031.000000    34.000000  \n",
       "max    999997.000000    50.000000  "
      ]
     },
     "execution_count": 32,
     "metadata": {},
     "output_type": "execute_result"
    }
   ],
   "source": [
    "data.describe()"
   ]
  },
  {
   "cell_type": "code",
   "execution_count": 33,
   "metadata": {},
   "outputs": [
    {
     "data": {
      "text/html": [
       "<div>\n",
       "<style scoped>\n",
       "    .dataframe tbody tr th:only-of-type {\n",
       "        vertical-align: middle;\n",
       "    }\n",
       "\n",
       "    .dataframe tbody tr th {\n",
       "        vertical-align: top;\n",
       "    }\n",
       "\n",
       "    .dataframe thead th {\n",
       "        text-align: right;\n",
       "    }\n",
       "</style>\n",
       "<table border=\"1\" class=\"dataframe\">\n",
       "  <thead>\n",
       "    <tr style=\"text-align: right;\">\n",
       "      <th></th>\n",
       "      <th>age</th>\n",
       "      <th>body_type</th>\n",
       "      <th>bra_size</th>\n",
       "      <th>bust</th>\n",
       "      <th>category</th>\n",
       "      <th>cup_size</th>\n",
       "      <th>fit</th>\n",
       "      <th>height</th>\n",
       "      <th>hips</th>\n",
       "      <th>item_id</th>\n",
       "      <th>...</th>\n",
       "      <th>review_date</th>\n",
       "      <th>review_summary</th>\n",
       "      <th>review_text</th>\n",
       "      <th>shoe size</th>\n",
       "      <th>shoe width</th>\n",
       "      <th>size</th>\n",
       "      <th>user_id</th>\n",
       "      <th>user_name</th>\n",
       "      <th>waist</th>\n",
       "      <th>weight</th>\n",
       "    </tr>\n",
       "  </thead>\n",
       "  <tbody>\n",
       "    <tr>\n",
       "      <th>0</th>\n",
       "      <td>28.0</td>\n",
       "      <td>hourglass</td>\n",
       "      <td>34.0</td>\n",
       "      <td>NaN</td>\n",
       "      <td>romper</td>\n",
       "      <td>d</td>\n",
       "      <td>fit</td>\n",
       "      <td>172.72</td>\n",
       "      <td>NaN</td>\n",
       "      <td>2260466</td>\n",
       "      <td>...</td>\n",
       "      <td>April 20, 2016</td>\n",
       "      <td>So many compliments!</td>\n",
       "      <td>An adorable romper! Belt and zipper were a lit...</td>\n",
       "      <td>NaN</td>\n",
       "      <td>NaN</td>\n",
       "      <td>14</td>\n",
       "      <td>420272</td>\n",
       "      <td>NaN</td>\n",
       "      <td>NaN</td>\n",
       "      <td>137lbs</td>\n",
       "    </tr>\n",
       "    <tr>\n",
       "      <th>1</th>\n",
       "      <td>36.0</td>\n",
       "      <td>straight &amp; narrow</td>\n",
       "      <td>34.0</td>\n",
       "      <td>NaN</td>\n",
       "      <td>gown</td>\n",
       "      <td>b</td>\n",
       "      <td>fit</td>\n",
       "      <td>167.64</td>\n",
       "      <td>NaN</td>\n",
       "      <td>153475</td>\n",
       "      <td>...</td>\n",
       "      <td>June 18, 2013</td>\n",
       "      <td>I felt so glamourous!!!</td>\n",
       "      <td>I rented this dress for a photo shoot. The the...</td>\n",
       "      <td>NaN</td>\n",
       "      <td>NaN</td>\n",
       "      <td>12</td>\n",
       "      <td>273551</td>\n",
       "      <td>NaN</td>\n",
       "      <td>NaN</td>\n",
       "      <td>132lbs</td>\n",
       "    </tr>\n",
       "    <tr>\n",
       "      <th>2</th>\n",
       "      <td>116.0</td>\n",
       "      <td>NaN</td>\n",
       "      <td>NaN</td>\n",
       "      <td>NaN</td>\n",
       "      <td>sheath</td>\n",
       "      <td>NaN</td>\n",
       "      <td>fit</td>\n",
       "      <td>162.56</td>\n",
       "      <td>NaN</td>\n",
       "      <td>1063761</td>\n",
       "      <td>...</td>\n",
       "      <td>December 14, 2015</td>\n",
       "      <td>It was a great time to celebrate the (almost) ...</td>\n",
       "      <td>This hugged in all the right places! It was a ...</td>\n",
       "      <td>NaN</td>\n",
       "      <td>NaN</td>\n",
       "      <td>4</td>\n",
       "      <td>360448</td>\n",
       "      <td>NaN</td>\n",
       "      <td>NaN</td>\n",
       "      <td>NaN</td>\n",
       "    </tr>\n",
       "    <tr>\n",
       "      <th>3</th>\n",
       "      <td>34.0</td>\n",
       "      <td>pear</td>\n",
       "      <td>34.0</td>\n",
       "      <td>NaN</td>\n",
       "      <td>dress</td>\n",
       "      <td>c</td>\n",
       "      <td>fit</td>\n",
       "      <td>165.10</td>\n",
       "      <td>NaN</td>\n",
       "      <td>126335</td>\n",
       "      <td>...</td>\n",
       "      <td>February 12, 2014</td>\n",
       "      <td>Dress arrived on time and in perfect condition.</td>\n",
       "      <td>I rented this for my company's black tie award...</td>\n",
       "      <td>NaN</td>\n",
       "      <td>NaN</td>\n",
       "      <td>8</td>\n",
       "      <td>909926</td>\n",
       "      <td>NaN</td>\n",
       "      <td>NaN</td>\n",
       "      <td>135lbs</td>\n",
       "    </tr>\n",
       "    <tr>\n",
       "      <th>4</th>\n",
       "      <td>27.0</td>\n",
       "      <td>athletic</td>\n",
       "      <td>34.0</td>\n",
       "      <td>NaN</td>\n",
       "      <td>gown</td>\n",
       "      <td>b</td>\n",
       "      <td>fit</td>\n",
       "      <td>175.26</td>\n",
       "      <td>NaN</td>\n",
       "      <td>616682</td>\n",
       "      <td>...</td>\n",
       "      <td>September 26, 2016</td>\n",
       "      <td>Was in love with this dress !!!</td>\n",
       "      <td>I have always been petite in my upper body and...</td>\n",
       "      <td>NaN</td>\n",
       "      <td>NaN</td>\n",
       "      <td>12</td>\n",
       "      <td>151944</td>\n",
       "      <td>NaN</td>\n",
       "      <td>NaN</td>\n",
       "      <td>145lbs</td>\n",
       "    </tr>\n",
       "  </tbody>\n",
       "</table>\n",
       "<p>5 rows × 23 columns</p>\n",
       "</div>"
      ],
      "text/plain": [
       "     age          body_type  bra_size bust category cup_size  fit  height  \\\n",
       "0   28.0          hourglass      34.0  NaN   romper        d  fit  172.72   \n",
       "1   36.0  straight & narrow      34.0  NaN     gown        b  fit  167.64   \n",
       "2  116.0                NaN       NaN  NaN   sheath      NaN  fit  162.56   \n",
       "3   34.0               pear      34.0  NaN    dress        c  fit  165.10   \n",
       "4   27.0           athletic      34.0  NaN     gown        b  fit  175.26   \n",
       "\n",
       "   hips  item_id   ...           review_date  \\\n",
       "0   NaN  2260466   ...        April 20, 2016   \n",
       "1   NaN   153475   ...         June 18, 2013   \n",
       "2   NaN  1063761   ...     December 14, 2015   \n",
       "3   NaN   126335   ...     February 12, 2014   \n",
       "4   NaN   616682   ...    September 26, 2016   \n",
       "\n",
       "                                      review_summary  \\\n",
       "0                               So many compliments!   \n",
       "1                            I felt so glamourous!!!   \n",
       "2  It was a great time to celebrate the (almost) ...   \n",
       "3   Dress arrived on time and in perfect condition.    \n",
       "4                    Was in love with this dress !!!   \n",
       "\n",
       "                                         review_text shoe size shoe width  \\\n",
       "0  An adorable romper! Belt and zipper were a lit...       NaN        NaN   \n",
       "1  I rented this dress for a photo shoot. The the...       NaN        NaN   \n",
       "2  This hugged in all the right places! It was a ...       NaN        NaN   \n",
       "3  I rented this for my company's black tie award...       NaN        NaN   \n",
       "4  I have always been petite in my upper body and...       NaN        NaN   \n",
       "\n",
       "  size  user_id user_name  waist  weight  \n",
       "0   14   420272       NaN    NaN  137lbs  \n",
       "1   12   273551       NaN    NaN  132lbs  \n",
       "2    4   360448       NaN    NaN     NaN  \n",
       "3    8   909926       NaN    NaN  135lbs  \n",
       "4   12   151944       NaN    NaN  145lbs  \n",
       "\n",
       "[5 rows x 23 columns]"
      ]
     },
     "execution_count": 33,
     "metadata": {},
     "output_type": "execute_result"
    }
   ],
   "source": [
    "data.head()"
   ]
  },
  {
   "cell_type": "code",
   "execution_count": 34,
   "metadata": {},
   "outputs": [
    {
     "data": {
      "text/html": [
       "<div>\n",
       "<style scoped>\n",
       "    .dataframe tbody tr th:only-of-type {\n",
       "        vertical-align: middle;\n",
       "    }\n",
       "\n",
       "    .dataframe tbody tr th {\n",
       "        vertical-align: top;\n",
       "    }\n",
       "\n",
       "    .dataframe thead th {\n",
       "        text-align: right;\n",
       "    }\n",
       "</style>\n",
       "<table border=\"1\" class=\"dataframe\">\n",
       "  <thead>\n",
       "    <tr style=\"text-align: right;\">\n",
       "      <th></th>\n",
       "      <th>total_missing</th>\n",
       "      <th>perc_missing</th>\n",
       "    </tr>\n",
       "  </thead>\n",
       "  <tbody>\n",
       "    <tr>\n",
       "      <th>age</th>\n",
       "      <td>83750</td>\n",
       "      <td>30.417602</td>\n",
       "    </tr>\n",
       "    <tr>\n",
       "      <th>body_type</th>\n",
       "      <td>97427</td>\n",
       "      <td>35.385023</td>\n",
       "    </tr>\n",
       "    <tr>\n",
       "      <th>bra_size</th>\n",
       "      <td>24429</td>\n",
       "      <td>8.872497</td>\n",
       "    </tr>\n",
       "    <tr>\n",
       "      <th>bust</th>\n",
       "      <td>263480</td>\n",
       "      <td>95.694684</td>\n",
       "    </tr>\n",
       "    <tr>\n",
       "      <th>category</th>\n",
       "      <td>0</td>\n",
       "      <td>0.000000</td>\n",
       "    </tr>\n",
       "    <tr>\n",
       "      <th>cup_size</th>\n",
       "      <td>24666</td>\n",
       "      <td>8.958574</td>\n",
       "    </tr>\n",
       "    <tr>\n",
       "      <th>fit</th>\n",
       "      <td>0</td>\n",
       "      <td>0.000000</td>\n",
       "    </tr>\n",
       "    <tr>\n",
       "      <th>height</th>\n",
       "      <td>1784</td>\n",
       "      <td>0.647940</td>\n",
       "    </tr>\n",
       "    <tr>\n",
       "      <th>hips</th>\n",
       "      <td>219270</td>\n",
       "      <td>79.637822</td>\n",
       "    </tr>\n",
       "    <tr>\n",
       "      <th>item_id</th>\n",
       "      <td>0</td>\n",
       "      <td>0.000000</td>\n",
       "    </tr>\n",
       "    <tr>\n",
       "      <th>length</th>\n",
       "      <td>192579</td>\n",
       "      <td>69.943777</td>\n",
       "    </tr>\n",
       "    <tr>\n",
       "      <th>rating</th>\n",
       "      <td>150</td>\n",
       "      <td>0.054479</td>\n",
       "    </tr>\n",
       "    <tr>\n",
       "      <th>rented_for</th>\n",
       "      <td>82800</td>\n",
       "      <td>30.072566</td>\n",
       "    </tr>\n",
       "    <tr>\n",
       "      <th>review_date</th>\n",
       "      <td>82790</td>\n",
       "      <td>30.068934</td>\n",
       "    </tr>\n",
       "    <tr>\n",
       "      <th>review_summary</th>\n",
       "      <td>6725</td>\n",
       "      <td>2.442488</td>\n",
       "    </tr>\n",
       "    <tr>\n",
       "      <th>review_text</th>\n",
       "      <td>6725</td>\n",
       "      <td>2.442488</td>\n",
       "    </tr>\n",
       "    <tr>\n",
       "      <th>shoe size</th>\n",
       "      <td>247419</td>\n",
       "      <td>89.861405</td>\n",
       "    </tr>\n",
       "    <tr>\n",
       "      <th>shoe width</th>\n",
       "      <td>256727</td>\n",
       "      <td>93.242026</td>\n",
       "    </tr>\n",
       "    <tr>\n",
       "      <th>size</th>\n",
       "      <td>0</td>\n",
       "      <td>0.000000</td>\n",
       "    </tr>\n",
       "    <tr>\n",
       "      <th>user_id</th>\n",
       "      <td>0</td>\n",
       "      <td>0.000000</td>\n",
       "    </tr>\n",
       "    <tr>\n",
       "      <th>user_name</th>\n",
       "      <td>192544</td>\n",
       "      <td>69.931066</td>\n",
       "    </tr>\n",
       "    <tr>\n",
       "      <th>waist</th>\n",
       "      <td>272452</td>\n",
       "      <td>98.953271</td>\n",
       "    </tr>\n",
       "    <tr>\n",
       "      <th>weight</th>\n",
       "      <td>112772</td>\n",
       "      <td>40.958254</td>\n",
       "    </tr>\n",
       "  </tbody>\n",
       "</table>\n",
       "</div>"
      ],
      "text/plain": [
       "                total_missing  perc_missing\n",
       "age                     83750     30.417602\n",
       "body_type               97427     35.385023\n",
       "bra_size                24429      8.872497\n",
       "bust                   263480     95.694684\n",
       "category                    0      0.000000\n",
       "cup_size                24666      8.958574\n",
       "fit                         0      0.000000\n",
       "height                   1784      0.647940\n",
       "hips                   219270     79.637822\n",
       "item_id                     0      0.000000\n",
       "length                 192579     69.943777\n",
       "rating                    150      0.054479\n",
       "rented_for              82800     30.072566\n",
       "review_date             82790     30.068934\n",
       "review_summary           6725      2.442488\n",
       "review_text              6725      2.442488\n",
       "shoe size              247419     89.861405\n",
       "shoe width             256727     93.242026\n",
       "size                        0      0.000000\n",
       "user_id                     0      0.000000\n",
       "user_name              192544     69.931066\n",
       "waist                  272452     98.953271\n",
       "weight                 112772     40.958254"
      ]
     },
     "execution_count": 34,
     "metadata": {},
     "output_type": "execute_result"
    }
   ],
   "source": [
    "missing_data = pd.DataFrame({'total_missing': data.isnull().sum(), 'perc_missing': (data.isnull().sum()/275334)*100})\n",
    "missing_data"
   ]
  },
  {
   "cell_type": "code",
   "execution_count": 45,
   "metadata": {
    "collapsed": true
   },
   "outputs": [],
   "source": [
    "data.drop(['waist'], axis=1, inplace=True) # drop the columns which fill less than 20%\n",
    "data.drop(['bust'], axis=1, inplace=True)\n",
    "data.drop(['shoe size'], axis=1, inplace=True)\n",
    "data.drop(['shoe width'], axis=1, inplace=True)"
   ]
  },
  {
   "cell_type": "code",
   "execution_count": null,
   "metadata": {
    "collapsed": true
   },
   "outputs": [],
   "source": [
    "weight = data['weight'] #make weight to numbers\n",
    "new_weight = []\n",
    "for i in range(len(weight)):\n",
    "    if isinstance(weight[i],float) or weight[i] == 'NaN' or weight[i] == 'nan':\n",
    "        new_weight.append(float('NaN'))\n",
    "        continue\n",
    "    new_weight.append(weight[i][:-3])\n",
    "data['weight'] = new_weight"
   ]
  },
  {
   "cell_type": "markdown",
   "metadata": {},
   "source": [
    "#### delete the outliers\n",
    "find the rows that need to be deleted through plots"
   ]
  },
  {
   "cell_type": "code",
   "execution_count": 47,
   "metadata": {},
   "outputs": [
    {
     "data": {
      "text/plain": [
       "<matplotlib.figure.Figure at 0x12eeb16a0>"
      ]
     },
     "metadata": {},
     "output_type": "display_data"
    },
    {
     "data": {
      "image/png": "[encoded data removed]",
      "text/plain": [
       "<matplotlib.figure.Figure at 0x12efa3a20>"
      ]
     },
     "metadata": {},
     "output_type": "display_data"
    }
   ],
   "source": [
    "num_cols = ['bra_size','hips','size', 'age', 'height','hips']\n",
    "plt.figure(figsize=(18,9))\n",
    "data[num_cols].boxplot()\n",
    "plt.title(\"Numerical variables in dataset\", fontsize=20)\n",
    "plt.show()"
   ]
  },
  {
   "cell_type": "code",
   "execution_count": 53,
   "metadata": {},
   "outputs": [],
   "source": [
    "def plot_dist(col, ax):\n",
    "    data[col][data[col].notnull()].value_counts().plot('bar', facecolor='y', ax=ax)\n",
    "    ax.set_xlabel('{}'.format(col), fontsize=20)\n",
    "    ax.set_title(\"{} on data\".format(col), fontsize= 18)\n",
    "    return ax\n",
    "\n",
    "f, ax = plt.subplots(2,4, figsize = (22,15))\n",
    "f.tight_layout(h_pad=9, w_pad=2, rect=[0, 0.03, 1, 0.93])\n",
    "cols = ['bra_size', 'cup_size', 'fit', 'height', 'hips', 'length', 'size','category']\n",
    "k = 0\n",
    "for i in range(2):\n",
    "    for j in range(4):\n",
    "        plot_dist(cols[k], ax[i][j])\n",
    "        k += 1\n",
    "__ = plt.suptitle(\"Initial Distributions of features\", fontsize= 25)"
   ]
  },
  {
   "cell_type": "code",
   "execution_count": 54,
   "metadata": {},
   "outputs": [
    {
     "data": {
      "image/png": "[encoded data removed]",
      "text/plain": [
       "<matplotlib.figure.Figure at 0x1748c45f8>"
      ]
     },
     "metadata": {},
     "output_type": "display_data"
    }
   ],
   "source": [
    "plt.show()"
   ]
  },
  {
   "cell_type": "code",
   "execution_count": 56,
   "metadata": {
    "collapsed": true
   },
   "outputs": [],
   "source": [
    "from sklearn.preprocessing import LabelEncoder\n",
    "\n",
    "cat = data\n",
    "cat = cat.astype(str)\n",
    "catnew = cat.apply(LabelEncoder().fit_transform)"
   ]
  },
  {
   "cell_type": "code",
   "execution_count": 57,
   "metadata": {},
   "outputs": [
    {
     "data": {
      "image/png": "[encoded data removed]",
      "text/plain": [
       "<matplotlib.figure.Figure at 0x12de17898>"
      ]
     },
     "metadata": {},
     "output_type": "display_data"
    }
   ],
   "source": [
    "corr = catnew.corr()\n",
    "import matplotlib.pyplot as plt\n",
    "\n",
    "mask = np.zeros_like(corr, dtype=np.bool)\n",
    "mask[np.triu_indices_from(mask)] = True\n",
    "\n",
    "# Set up the matplotlib figure\n",
    "f, ax = plt.subplots(figsize=(20, 20))\n",
    "\n",
    "# Generate a custom diverging colormap\n",
    "cmap = sns.diverging_palette(220, 10, as_cmap=True)\n",
    "\n",
    "# Draw the heatmap with the mask and correct aspect ratio\n",
    "sns.heatmap(corr, mask=mask, cmap=cmap, vmax=.3, center=0,\n",
    "            square=True, linewidths=.5, cbar_kws={\"shrink\": .5})\n",
    "plt.show()"
   ]
  },
  {
   "cell_type": "markdown",
   "metadata": {},
   "source": [
    "### todo: need to delete outliers and do more data engineering"
   ]
  },
  {
   "cell_type": "code",
   "execution_count": 36,
   "metadata": {
    "collapsed": true
   },
   "outputs": [],
   "source": [
    "missing_rows =data[data.rating.isnull()].index #drop the rows which don't have rating\n",
    "data.drop(missing_rows, axis = 0, inplace=True)"
   ]
  },
  {
   "cell_type": "code",
   "execution_count": null,
   "metadata": {},
   "outputs": [],
   "source": [
    "y = data['rating'].values"
   ]
  },
  {
   "cell_type": "code",
   "execution_count": 38,
   "metadata": {
    "collapsed": true
   },
   "outputs": [],
   "source": [
    "data.drop(['rating'], axis=1, inplace=True)"
   ]
  },
  {
   "cell_type": "code",
   "execution_count": 39,
   "metadata": {
    "collapsed": true
   },
   "outputs": [],
   "source": []
  },
  {
   "cell_type": "code",
   "execution_count": 59,
   "metadata": {
    "collapsed": true
   },
   "outputs": [],
   "source": [
    "from sklearn.preprocessing import MinMaxScaler\n",
    "norm_final = MinMaxScaler().fit_transform(catnew)"
   ]
  },
  {
   "cell_type": "code",
   "execution_count": 41,
   "metadata": {
    "collapsed": true
   },
   "outputs": [],
   "source": [
    "y_norm = (y - min(y)) / (max(y) - min(y))"
   ]
  },
  {
   "cell_type": "code",
   "execution_count": 60,
   "metadata": {
    "collapsed": true
   },
   "outputs": [],
   "source": [
    "from sklearn.model_selection import train_test_split\n",
    "\n",
    "X_train, X_test, y_train, y_test = train_test_split(norm_final, y_norm, test_size=0.1)"
   ]
  },
  {
   "cell_type": "code",
   "execution_count": 61,
   "metadata": {
    "collapsed": true
   },
   "outputs": [],
   "source": [
    "from sklearn import datasets, linear_model\n",
    "regr = linear_model.LinearRegression()\n",
    "regr.fit(X_train, y_train)\n",
    "y_pred_linear = regr.predict(X_test)"
   ]
  },
  {
   "cell_type": "code",
   "execution_count": 62,
   "metadata": {},
   "outputs": [
    {
     "name": "stdout",
     "output_type": "stream",
     "text": [
      "0.03897327978982892\n"
     ]
    }
   ],
   "source": [
    "from sklearn.metrics import mean_squared_error, mean_absolute_error\n",
    "\n",
    "print( mean_squared_error(y_test, y_pred_linear))"
   ]
  },
  {
   "cell_type": "code",
   "execution_count": 66,
   "metadata": {
    "collapsed": true
   },
   "outputs": [],
   "source": [
    "pred = []\n",
    "for i in range(len(y_pred_linear)):\n",
    "    pred.append(y_pred_linear[i]*(y.max()-y.min())+y.min())\n",
    "test = []\n",
    "for i in range(len(y_test)):\n",
    "      test.append(y_test[i]*(y.max()-y.min())+y.min())"
   ]
  },
  {
   "cell_type": "code",
   "execution_count": 67,
   "metadata": {},
   "outputs": [
    {
     "data": {
      "text/plain": [
       "0.6223984705310845"
      ]
     },
     "execution_count": 67,
     "metadata": {},
     "output_type": "execute_result"
    }
   ],
   "source": [
    "mean_absolute_error(test, pred)"
   ]
  },
  {
   "cell_type": "code",
   "execution_count": 68,
   "metadata": {},
   "outputs": [
    {
     "data": {
      "text/plain": [
       "0.6235724766372627"
      ]
     },
     "execution_count": 68,
     "metadata": {},
     "output_type": "execute_result"
    }
   ],
   "source": [
    "mean_squared_error(test, pred)"
   ]
  },
  {
   "cell_type": "code",
   "execution_count": null,
   "metadata": {
    "collapsed": true
   },
   "outputs": [],
   "source": []
  }
 ],
 "metadata": {
  "kernelspec": {
   "display_name": "Python 3",
   "language": "python",
   "name": "python3"
  },
  "language_info": {
   "codemirror_mode": {
    "name": "ipython",
    "version": 3
   },
   "file_extension": ".py",
   "mimetype": "text/x-python",
   "name": "python",
   "nbconvert_exporter": "python",
   "pygments_lexer": "ipython3",
   "version": "3.6.3"
  }
 },
 "nbformat": 4,
 "nbformat_minor": 2
}
